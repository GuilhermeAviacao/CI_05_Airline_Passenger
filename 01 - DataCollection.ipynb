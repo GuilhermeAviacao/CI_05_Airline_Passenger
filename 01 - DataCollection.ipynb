{
 "cells": [
  {
   "metadata": {
    "ExecuteTime": {
     "end_time": "2025-06-23T20:12:39.688185Z",
     "start_time": "2025-06-23T20:12:35.364679Z"
    }
   },
   "cell_type": "code",
   "source": [
    "#Library installations\n",
    "!pip install kagglehub pandas"
   ],
   "id": "142844d9c1a972b9",
   "outputs": [
    {
     "name": "stdout",
     "output_type": "stream",
     "text": [
      "Requirement already satisfied: kagglehub in c:\\users\\guilh\\pycharmprojects\\ci_project05_airlinepricing\\.venv\\lib\\site-packages (0.3.12)\n",
      "Requirement already satisfied: pandas in c:\\users\\guilh\\pycharmprojects\\ci_project05_airlinepricing\\.venv\\lib\\site-packages (2.3.0)\n",
      "Requirement already satisfied: packaging in c:\\users\\guilh\\pycharmprojects\\ci_project05_airlinepricing\\.venv\\lib\\site-packages (from kagglehub) (25.0)\n",
      "Requirement already satisfied: pyyaml in c:\\users\\guilh\\pycharmprojects\\ci_project05_airlinepricing\\.venv\\lib\\site-packages (from kagglehub) (6.0.2)\n",
      "Requirement already satisfied: requests in c:\\users\\guilh\\pycharmprojects\\ci_project05_airlinepricing\\.venv\\lib\\site-packages (from kagglehub) (2.32.4)\n",
      "Requirement already satisfied: tqdm in c:\\users\\guilh\\pycharmprojects\\ci_project05_airlinepricing\\.venv\\lib\\site-packages (from kagglehub) (4.67.1)\n",
      "Requirement already satisfied: numpy>=1.26.0 in c:\\users\\guilh\\pycharmprojects\\ci_project05_airlinepricing\\.venv\\lib\\site-packages (from pandas) (2.3.0)\n",
      "Requirement already satisfied: python-dateutil>=2.8.2 in c:\\users\\guilh\\pycharmprojects\\ci_project05_airlinepricing\\.venv\\lib\\site-packages (from pandas) (2.9.0.post0)\n",
      "Requirement already satisfied: pytz>=2020.1 in c:\\users\\guilh\\pycharmprojects\\ci_project05_airlinepricing\\.venv\\lib\\site-packages (from pandas) (2025.2)\n",
      "Requirement already satisfied: tzdata>=2022.7 in c:\\users\\guilh\\pycharmprojects\\ci_project05_airlinepricing\\.venv\\lib\\site-packages (from pandas) (2025.2)\n",
      "Requirement already satisfied: six>=1.5 in c:\\users\\guilh\\pycharmprojects\\ci_project05_airlinepricing\\.venv\\lib\\site-packages (from python-dateutil>=2.8.2->pandas) (1.17.0)\n",
      "Requirement already satisfied: charset_normalizer<4,>=2 in c:\\users\\guilh\\pycharmprojects\\ci_project05_airlinepricing\\.venv\\lib\\site-packages (from requests->kagglehub) (3.4.2)\n",
      "Requirement already satisfied: idna<4,>=2.5 in c:\\users\\guilh\\pycharmprojects\\ci_project05_airlinepricing\\.venv\\lib\\site-packages (from requests->kagglehub) (3.10)\n",
      "Requirement already satisfied: urllib3<3,>=1.21.1 in c:\\users\\guilh\\pycharmprojects\\ci_project05_airlinepricing\\.venv\\lib\\site-packages (from requests->kagglehub) (2.4.0)\n",
      "Requirement already satisfied: certifi>=2017.4.17 in c:\\users\\guilh\\pycharmprojects\\ci_project05_airlinepricing\\.venv\\lib\\site-packages (from requests->kagglehub) (2025.6.15)\n",
      "Requirement already satisfied: colorama in c:\\users\\guilh\\pycharmprojects\\ci_project05_airlinepricing\\.venv\\lib\\site-packages (from tqdm->kagglehub) (0.4.6)\n"
     ]
    },
    {
     "name": "stderr",
     "output_type": "stream",
     "text": [
      "\n",
      "[notice] A new release of pip is available: 23.2.1 -> 25.1.1\n",
      "[notice] To update, run: python.exe -m pip install --upgrade pip\n"
     ]
    }
   ],
   "execution_count": 1
  },
  {
   "metadata": {
    "ExecuteTime": {
     "end_time": "2025-06-23T20:12:40.704008Z",
     "start_time": "2025-06-23T20:12:39.692916Z"
    }
   },
   "cell_type": "code",
   "source": [
    "#Library import\n",
    "import os\n",
    "import pandas as pd\n",
    "import kagglehub"
   ],
   "id": "48dae98ab23454c0",
   "outputs": [
    {
     "name": "stderr",
     "output_type": "stream",
     "text": [
      "C:\\Users\\guilh\\PycharmProjects\\CI_Project05_AirlinePricing\\.venv\\Lib\\site-packages\\tqdm\\auto.py:21: TqdmWarning: IProgress not found. Please update jupyter and ipywidgets. See https://ipywidgets.readthedocs.io/en/stable/user_install.html\n",
      "  from .autonotebook import tqdm as notebook_tqdm\n"
     ]
    }
   ],
   "execution_count": 2
  },
  {
   "metadata": {
    "ExecuteTime": {
     "end_time": "2025-06-23T20:12:42.344954Z",
     "start_time": "2025-06-23T20:12:40.827063Z"
    }
   },
   "cell_type": "code",
   "source": [
    "# Kaggle dataset download\n",
    "path = kagglehub.dataset_download(\"shubhambathwal/flight-price-prediction\")\n",
    "#print(f\"Path to dataset files: {path}\")"
   ],
   "id": "901eeb5be212560",
   "outputs": [],
   "execution_count": 3
  },
  {
   "metadata": {
    "ExecuteTime": {
     "end_time": "2025-06-23T20:13:14.456960Z",
     "start_time": "2025-06-23T20:13:14.114794Z"
    }
   },
   "cell_type": "code",
   "source": [
    "# Find and load the CSV file\n",
    "csv_file = os.path.join(path, \"Clean_Dataset.csv\")\n",
    "df = pd.read_csv(csv_file)"
   ],
   "id": "37d54d85237ca374",
   "outputs": [],
   "execution_count": 5
  },
  {
   "metadata": {
    "ExecuteTime": {
     "end_time": "2025-06-23T20:13:27.542718Z",
     "start_time": "2025-06-23T20:13:27.535095Z"
    }
   },
   "cell_type": "code",
   "source": [
    "# Display of first 5 rows\n",
    "print(f\"Shape: {df.shape}\")\n",
    "print(f\"Columns: {list(df.columns)}\")\n",
    "print(\"\\nFirst 5 rows:\")\n",
    "print(df.head())"
   ],
   "id": "19774c626ecb74b8",
   "outputs": [
    {
     "name": "stdout",
     "output_type": "stream",
     "text": [
      "Shape: (300153, 12)\n",
      "Columns: ['Unnamed: 0', 'airline', 'flight', 'source_city', 'departure_time', 'stops', 'arrival_time', 'destination_city', 'class', 'duration', 'days_left', 'price']\n",
      "\n",
      "First 5 rows:\n",
      "   Unnamed: 0   airline   flight source_city departure_time stops  \\\n",
      "0           0  SpiceJet  SG-8709       Delhi        Evening  zero   \n",
      "1           1  SpiceJet  SG-8157       Delhi  Early_Morning  zero   \n",
      "2           2   AirAsia   I5-764       Delhi  Early_Morning  zero   \n",
      "3           3   Vistara   UK-995       Delhi        Morning  zero   \n",
      "4           4   Vistara   UK-963       Delhi        Morning  zero   \n",
      "\n",
      "    arrival_time destination_city    class  duration  days_left  price  \n",
      "0          Night           Mumbai  Economy      2.17          1   5953  \n",
      "1        Morning           Mumbai  Economy      2.33          1   5953  \n",
      "2  Early_Morning           Mumbai  Economy      2.17          1   5956  \n",
      "3      Afternoon           Mumbai  Economy      2.25          1   5955  \n",
      "4        Morning           Mumbai  Economy      2.33          1   5955  \n"
     ]
    }
   ],
   "execution_count": 6
  },
  {
   "metadata": {
    "ExecuteTime": {
     "end_time": "2025-06-23T20:13:30.623700Z",
     "start_time": "2025-06-23T20:13:30.509089Z"
    }
   },
   "cell_type": "code",
   "source": [
    "#Description of Dataset\n",
    "df.info()"
   ],
   "id": "dd1c12f8e7deae49",
   "outputs": [
    {
     "name": "stdout",
     "output_type": "stream",
     "text": [
      "<class 'pandas.core.frame.DataFrame'>\n",
      "RangeIndex: 300153 entries, 0 to 300152\n",
      "Data columns (total 12 columns):\n",
      " #   Column            Non-Null Count   Dtype  \n",
      "---  ------            --------------   -----  \n",
      " 0   Unnamed: 0        300153 non-null  int64  \n",
      " 1   airline           300153 non-null  object \n",
      " 2   flight            300153 non-null  object \n",
      " 3   source_city       300153 non-null  object \n",
      " 4   departure_time    300153 non-null  object \n",
      " 5   stops             300153 non-null  object \n",
      " 6   arrival_time      300153 non-null  object \n",
      " 7   destination_city  300153 non-null  object \n",
      " 8   class             300153 non-null  object \n",
      " 9   duration          300153 non-null  float64\n",
      " 10  days_left         300153 non-null  int64  \n",
      " 11  price             300153 non-null  int64  \n",
      "dtypes: float64(1), int64(3), object(8)\n",
      "memory usage: 27.5+ MB\n"
     ]
    }
   ],
   "execution_count": 7
  },
  {
   "metadata": {
    "ExecuteTime": {
     "end_time": "2025-06-23T20:13:32.832959Z",
     "start_time": "2025-06-23T20:13:32.717937Z"
    }
   },
   "cell_type": "code",
   "source": [
    "#Check for duplicated records in Unnamed column\n",
    "df[df.duplicated(subset=[\"Unnamed: 0\"])]"
   ],
   "id": "6d68b952a0eb973f",
   "outputs": [
    {
     "data": {
      "text/plain": [
       "Empty DataFrame\n",
       "Columns: [Unnamed: 0, airline, flight, source_city, departure_time, stops, arrival_time, destination_city, class, duration, days_left, price]\n",
       "Index: []"
      ],
      "text/html": [
       "<div>\n",
       "<style scoped>\n",
       "    .dataframe tbody tr th:only-of-type {\n",
       "        vertical-align: middle;\n",
       "    }\n",
       "\n",
       "    .dataframe tbody tr th {\n",
       "        vertical-align: top;\n",
       "    }\n",
       "\n",
       "    .dataframe thead th {\n",
       "        text-align: right;\n",
       "    }\n",
       "</style>\n",
       "<table border=\"1\" class=\"dataframe\">\n",
       "  <thead>\n",
       "    <tr style=\"text-align: right;\">\n",
       "      <th></th>\n",
       "      <th>Unnamed: 0</th>\n",
       "      <th>airline</th>\n",
       "      <th>flight</th>\n",
       "      <th>source_city</th>\n",
       "      <th>departure_time</th>\n",
       "      <th>stops</th>\n",
       "      <th>arrival_time</th>\n",
       "      <th>destination_city</th>\n",
       "      <th>class</th>\n",
       "      <th>duration</th>\n",
       "      <th>days_left</th>\n",
       "      <th>price</th>\n",
       "    </tr>\n",
       "  </thead>\n",
       "  <tbody>\n",
       "  </tbody>\n",
       "</table>\n",
       "</div>"
      ]
     },
     "execution_count": 8,
     "metadata": {},
     "output_type": "execute_result"
    }
   ],
   "execution_count": 8
  },
  {
   "metadata": {
    "ExecuteTime": {
     "end_time": "2025-06-23T20:14:02.366354Z",
     "start_time": "2025-06-23T20:14:01.425741Z"
    }
   },
   "cell_type": "code",
   "source": [
    "#Saving the file into the project folder\n",
    "from pathlib import Path\n",
    "data_input_folder = Path('Data Input')\n",
    "data_input_folder.mkdir(parents=True, exist_ok=True)\n",
    "output_filepath = data_input_folder / 'Clean_Dataset.csv'\n",
    "df.to_csv(output_filepath, index=False)"
   ],
   "id": "a2c48c56160942cb",
   "outputs": [],
   "execution_count": 9
  },
  {
   "metadata": {},
   "cell_type": "code",
   "source": "",
   "id": "a36e7725748f9079",
   "outputs": [],
   "execution_count": null
  }
 ],
 "metadata": {
  "kernelspec": {
   "display_name": "Python 3",
   "language": "python",
   "name": "python3"
  },
  "language_info": {
   "codemirror_mode": {
    "name": "ipython",
    "version": 2
   },
   "file_extension": ".py",
   "mimetype": "text/x-python",
   "name": "python",
   "nbconvert_exporter": "python",
   "pygments_lexer": "ipython2",
   "version": "2.7.6"
  }
 },
 "nbformat": 4,
 "nbformat_minor": 5
}
