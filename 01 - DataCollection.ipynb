{
 "cells": [
  {
   "metadata": {
    "ExecuteTime": {
     "end_time": "2025-06-16T20:38:01.254772Z",
     "start_time": "2025-06-16T20:37:54.440130Z"
    }
   },
   "cell_type": "code",
   "source": [
    "#Library installations\n",
    "!pip install kagglehub pandas"
   ],
   "id": "142844d9c1a972b9",
   "outputs": [
    {
     "name": "stdout",
     "output_type": "stream",
     "text": [
      "Requirement already satisfied: kagglehub in c:\\users\\guilh\\pycharmprojects\\ci_project05_airlinepricing\\.venv\\lib\\site-packages (0.3.12)\n",
      "Requirement already satisfied: pandas in c:\\users\\guilh\\pycharmprojects\\ci_project05_airlinepricing\\.venv\\lib\\site-packages (2.3.0)\n",
      "Requirement already satisfied: packaging in c:\\users\\guilh\\pycharmprojects\\ci_project05_airlinepricing\\.venv\\lib\\site-packages (from kagglehub) (25.0)\n",
      "Requirement already satisfied: pyyaml in c:\\users\\guilh\\pycharmprojects\\ci_project05_airlinepricing\\.venv\\lib\\site-packages (from kagglehub) (6.0.2)\n",
      "Requirement already satisfied: requests in c:\\users\\guilh\\pycharmprojects\\ci_project05_airlinepricing\\.venv\\lib\\site-packages (from kagglehub) (2.32.4)\n",
      "Requirement already satisfied: tqdm in c:\\users\\guilh\\pycharmprojects\\ci_project05_airlinepricing\\.venv\\lib\\site-packages (from kagglehub) (4.67.1)\n",
      "Requirement already satisfied: numpy>=1.26.0 in c:\\users\\guilh\\pycharmprojects\\ci_project05_airlinepricing\\.venv\\lib\\site-packages (from pandas) (2.3.0)\n",
      "Requirement already satisfied: python-dateutil>=2.8.2 in c:\\users\\guilh\\pycharmprojects\\ci_project05_airlinepricing\\.venv\\lib\\site-packages (from pandas) (2.9.0.post0)\n",
      "Requirement already satisfied: pytz>=2020.1 in c:\\users\\guilh\\pycharmprojects\\ci_project05_airlinepricing\\.venv\\lib\\site-packages (from pandas) (2025.2)\n",
      "Requirement already satisfied: tzdata>=2022.7 in c:\\users\\guilh\\pycharmprojects\\ci_project05_airlinepricing\\.venv\\lib\\site-packages (from pandas) (2025.2)\n",
      "Requirement already satisfied: six>=1.5 in c:\\users\\guilh\\pycharmprojects\\ci_project05_airlinepricing\\.venv\\lib\\site-packages (from python-dateutil>=2.8.2->pandas) (1.17.0)\n",
      "Requirement already satisfied: charset_normalizer<4,>=2 in c:\\users\\guilh\\pycharmprojects\\ci_project05_airlinepricing\\.venv\\lib\\site-packages (from requests->kagglehub) (3.4.2)\n",
      "Requirement already satisfied: idna<4,>=2.5 in c:\\users\\guilh\\pycharmprojects\\ci_project05_airlinepricing\\.venv\\lib\\site-packages (from requests->kagglehub) (3.10)\n",
      "Requirement already satisfied: urllib3<3,>=1.21.1 in c:\\users\\guilh\\pycharmprojects\\ci_project05_airlinepricing\\.venv\\lib\\site-packages (from requests->kagglehub) (2.4.0)\n",
      "Requirement already satisfied: certifi>=2017.4.17 in c:\\users\\guilh\\pycharmprojects\\ci_project05_airlinepricing\\.venv\\lib\\site-packages (from requests->kagglehub) (2025.6.15)\n",
      "Requirement already satisfied: colorama in c:\\users\\guilh\\pycharmprojects\\ci_project05_airlinepricing\\.venv\\lib\\site-packages (from tqdm->kagglehub) (0.4.6)\n"
     ]
    },
    {
     "name": "stderr",
     "output_type": "stream",
     "text": [
      "\n",
      "[notice] A new release of pip is available: 23.2.1 -> 25.1.1\n",
      "[notice] To update, run: python.exe -m pip install --upgrade pip\n"
     ]
    }
   ],
   "execution_count": 5
  },
  {
   "metadata": {
    "ExecuteTime": {
     "end_time": "2025-06-16T20:38:03.708410Z",
     "start_time": "2025-06-16T20:38:03.700174Z"
    }
   },
   "cell_type": "code",
   "source": [
    "#Library import\n",
    "import os\n",
    "import pandas as pd\n",
    "import kagglehub"
   ],
   "id": "48dae98ab23454c0",
   "outputs": [],
   "execution_count": 6
  },
  {
   "metadata": {
    "ExecuteTime": {
     "end_time": "2025-06-16T20:38:06.666328Z",
     "start_time": "2025-06-16T20:38:06.112349Z"
    }
   },
   "cell_type": "code",
   "source": [
    "# Kaggle dataset download\n",
    "path = kagglehub.dataset_download(\"keatonballard/synthetic-airline-passenger-and-flight-data\")\n",
    "#print(f\"Path to dataset files: {path}\")"
   ],
   "id": "901eeb5be212560",
   "outputs": [
    {
     "name": "stdout",
     "output_type": "stream",
     "text": [
      "Path to dataset files: C:\\Users\\guilh\\.cache\\kagglehub\\datasets\\keatonballard\\synthetic-airline-passenger-and-flight-data\\versions\\4\n"
     ]
    }
   ],
   "execution_count": 7
  },
  {
   "metadata": {
    "ExecuteTime": {
     "end_time": "2025-06-16T20:38:13.739490Z",
     "start_time": "2025-06-16T20:38:13.621021Z"
    }
   },
   "cell_type": "code",
   "source": [
    "# Find and load the CSV file\n",
    "csv_file = os.path.join(path, \"synthetic_flight_passenger_data.csv\")\n",
    "df = pd.read_csv(csv_file)"
   ],
   "id": "37d54d85237ca374",
   "outputs": [],
   "execution_count": 8
  },
  {
   "metadata": {
    "ExecuteTime": {
     "end_time": "2025-06-16T20:38:18.944711Z",
     "start_time": "2025-06-16T20:38:18.920332Z"
    }
   },
   "cell_type": "code",
   "source": [
    "# Display basic info\n",
    "print(f\"Shape: {df.shape}\")\n",
    "print(f\"Columns: {list(df.columns)}\")\n",
    "print(\"\\nFirst 5 rows:\")\n",
    "print(df.head())"
   ],
   "id": "19774c626ecb74b8",
   "outputs": [
    {
     "name": "stdout",
     "output_type": "stream",
     "text": [
      "Shape: (10000, 25)\n",
      "Columns: ['Passenger_ID', 'Flight_ID', 'Airline', 'Departure_Airport', 'Arrival_Airport', 'Departure_Time', 'Flight_Duration_Minutes', 'Flight_Status', 'Distance_Miles', 'Price_USD', 'Age', 'Gender', 'Income_Level', 'Travel_Purpose', 'Seat_Class', 'Bags_Checked', 'Frequent_Flyer_Status', 'Check_in_Method', 'Flight_Satisfaction_Score', 'Delay_Minutes', 'Booking_Days_In_Advance', 'No_Show', 'Weather_Impact', 'Seat_Selected', 'Booking_Lead_Time']\n",
      "\n",
      "First 5 rows:\n",
      "  Passenger_ID Flight_ID    Airline Departure_Airport Arrival_Airport  \\\n",
      "0           P1       F68  Southwest               JFK             ATL   \n",
      "1           P2     F1687  Southwest               JFK             DFW   \n",
      "2           P3     F1745     United               ORD             ORD   \n",
      "3           P4     F1514      Delta               SEA             ORD   \n",
      "4           P5     F1753  Southwest               LAX             JFK   \n",
      "\n",
      "        Departure_Time  Flight_Duration_Minutes Flight_Status  Distance_Miles  \\\n",
      "0  2024-03-27 06:22:06                      161       On-time             803   \n",
      "1  2024-12-28 09:18:06                      130       On-time            1605   \n",
      "2  2024-05-23 23:28:20                      169       On-time             908   \n",
      "3  2023-10-31 08:09:27                      227       On-time              63   \n",
      "4  2025-01-17 22:21:13                      150       On-time             628   \n",
      "\n",
      "   Price_USD  ...  Bags_Checked Frequent_Flyer_Status Check_in_Method  \\\n",
      "0     148.42  ...             2              Platinum          Online   \n",
      "1     228.57  ...             1                  Gold   Airport Kiosk   \n",
      "2     232.45  ...             0                Silver   Airport Kiosk   \n",
      "3     526.43  ...             0              Platinum          Online   \n",
      "4     324.14  ...             2                Silver            Desk   \n",
      "\n",
      "  Flight_Satisfaction_Score Delay_Minutes  Booking_Days_In_Advance No_Show  \\\n",
      "0                  8.801356           0.0                       91       1   \n",
      "1                  9.094380           2.0                       45       0   \n",
      "2                  8.015235           0.0                       63       0   \n",
      "3                  7.544133           9.0                       57       0   \n",
      "4                  7.133140           3.0                       58       0   \n",
      "\n",
      "  Weather_Impact  Seat_Selected  Booking_Lead_Time  \n",
      "0              1         Window                102  \n",
      "1              0         Middle                 51  \n",
      "2              0         Middle                 92  \n",
      "3              1         Window                 14  \n",
      "4              0         Middle                106  \n",
      "\n",
      "[5 rows x 25 columns]\n"
     ]
    }
   ],
   "execution_count": 9
  },
  {
   "metadata": {},
   "cell_type": "code",
   "outputs": [],
   "execution_count": null,
   "source": "",
   "id": "dd1c12f8e7deae49"
  }
 ],
 "metadata": {
  "kernelspec": {
   "display_name": "Python 3",
   "language": "python",
   "name": "python3"
  },
  "language_info": {
   "codemirror_mode": {
    "name": "ipython",
    "version": 2
   },
   "file_extension": ".py",
   "mimetype": "text/x-python",
   "name": "python",
   "nbconvert_exporter": "python",
   "pygments_lexer": "ipython2",
   "version": "2.7.6"
  }
 },
 "nbformat": 4,
 "nbformat_minor": 5
}
